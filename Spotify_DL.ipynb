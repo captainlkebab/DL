{
  "nbformat": 4,
  "nbformat_minor": 0,
  "metadata": {
    "colab": {
      "provenance": []
    },
    "kernelspec": {
      "name": "python3",
      "display_name": "Python 3"
    },
    "language_info": {
      "name": "python"
    }
  },
  "cells": [
    {
      "cell_type": "code",
      "execution_count": 1,
      "metadata": {
        "colab": {
          "base_uri": "https://localhost:8080/"
        },
        "id": "R1ssx5fVkDIL",
        "outputId": "61607ac2-3750-40b2-c3fb-ff0d5cadd691"
      },
      "outputs": [
        {
          "output_type": "stream",
          "name": "stdout",
          "text": [
            "Requirement already satisfied: kaggle in /usr/local/lib/python3.11/dist-packages (1.6.17)\n",
            "Requirement already satisfied: six>=1.10 in /usr/local/lib/python3.11/dist-packages (from kaggle) (1.17.0)\n",
            "Requirement already satisfied: certifi>=2023.7.22 in /usr/local/lib/python3.11/dist-packages (from kaggle) (2025.1.31)\n",
            "Requirement already satisfied: python-dateutil in /usr/local/lib/python3.11/dist-packages (from kaggle) (2.8.2)\n",
            "Requirement already satisfied: requests in /usr/local/lib/python3.11/dist-packages (from kaggle) (2.32.3)\n",
            "Requirement already satisfied: tqdm in /usr/local/lib/python3.11/dist-packages (from kaggle) (4.67.1)\n",
            "Requirement already satisfied: python-slugify in /usr/local/lib/python3.11/dist-packages (from kaggle) (8.0.4)\n",
            "Requirement already satisfied: urllib3 in /usr/local/lib/python3.11/dist-packages (from kaggle) (2.3.0)\n",
            "Requirement already satisfied: bleach in /usr/local/lib/python3.11/dist-packages (from kaggle) (6.2.0)\n",
            "Requirement already satisfied: webencodings in /usr/local/lib/python3.11/dist-packages (from bleach->kaggle) (0.5.1)\n",
            "Requirement already satisfied: text-unidecode>=1.3 in /usr/local/lib/python3.11/dist-packages (from python-slugify->kaggle) (1.3)\n",
            "Requirement already satisfied: charset-normalizer<4,>=2 in /usr/local/lib/python3.11/dist-packages (from requests->kaggle) (3.4.1)\n",
            "Requirement already satisfied: idna<4,>=2.5 in /usr/local/lib/python3.11/dist-packages (from requests->kaggle) (3.10)\n",
            "Dataset URL: https://www.kaggle.com/datasets/joebeachcapital/30000-spotify-songs\n",
            "License(s): DbCL-1.0\n",
            "Downloading 30000-spotify-songs.zip to /content\n",
            "100% 3.00M/3.01M [00:00<00:00, 25.0MB/s]\n",
            "100% 3.01M/3.01M [00:00<00:00, 22.9MB/s]\n",
            "Archive:  30000-spotify-songs.zip\n",
            "  inflating: readme.md               \n",
            "  inflating: spotify_songs.csv       \n"
          ]
        }
      ],
      "source": [
        "!pip install kaggle\n",
        "!mkdir -p ~/.kaggle\n",
        "!echo '{\"username\":\"DEIN_USERNAME\",\"key\":\"DEIN_API_KEY\"}' > ~/.kaggle/kaggle.json\n",
        "!chmod 600 ~/.kaggle/kaggle.json\n",
        "!kaggle datasets download joebeachcapital/30000-spotify-songs\n",
        "!unzip 30000-spotify-songs.zip\n"
      ]
    },
    {
      "cell_type": "code",
      "source": [
        "import torch\n",
        "import torch.nn as nn\n",
        "import torch.optim as optim\n",
        "import pandas as pd\n",
        "import numpy as np\n",
        "import matplotlib.pyplot as plt\n",
        "from torch.utils.data import TensorDataset, DataLoader\n",
        "from sklearn.model_selection import train_test_split\n",
        "from sklearn.preprocessing import StandardScaler\n",
        "import torch.optim.lr_scheduler as lr_scheduler\n",
        "from torch.optim.lr_scheduler import ReduceLROnPlateau\n",
        "import torch.nn.functional as F"
      ],
      "metadata": {
        "id": "fDC6m0ioQxVD"
      },
      "execution_count": 2,
      "outputs": []
    },
    {
      "cell_type": "code",
      "source": [
        "# EDA\n",
        "import pandas as pd\n",
        "\n",
        "df = pd.read_csv('spotify_songs.csv')\n",
        "print(df.info())\n",
        "print(df.head())"
      ],
      "metadata": {
        "colab": {
          "base_uri": "https://localhost:8080/"
        },
        "id": "lRAKgTvBmkDg",
        "outputId": "ac720139-8df6-4fbe-dcee-8a866389a771"
      },
      "execution_count": 3,
      "outputs": [
        {
          "output_type": "stream",
          "name": "stdout",
          "text": [
            "<class 'pandas.core.frame.DataFrame'>\n",
            "RangeIndex: 32833 entries, 0 to 32832\n",
            "Data columns (total 23 columns):\n",
            " #   Column                    Non-Null Count  Dtype  \n",
            "---  ------                    --------------  -----  \n",
            " 0   track_id                  32833 non-null  object \n",
            " 1   track_name                32828 non-null  object \n",
            " 2   track_artist              32828 non-null  object \n",
            " 3   track_popularity          32833 non-null  int64  \n",
            " 4   track_album_id            32833 non-null  object \n",
            " 5   track_album_name          32828 non-null  object \n",
            " 6   track_album_release_date  32833 non-null  object \n",
            " 7   playlist_name             32833 non-null  object \n",
            " 8   playlist_id               32833 non-null  object \n",
            " 9   playlist_genre            32833 non-null  object \n",
            " 10  playlist_subgenre         32833 non-null  object \n",
            " 11  danceability              32833 non-null  float64\n",
            " 12  energy                    32833 non-null  float64\n",
            " 13  key                       32833 non-null  int64  \n",
            " 14  loudness                  32833 non-null  float64\n",
            " 15  mode                      32833 non-null  int64  \n",
            " 16  speechiness               32833 non-null  float64\n",
            " 17  acousticness              32833 non-null  float64\n",
            " 18  instrumentalness          32833 non-null  float64\n",
            " 19  liveness                  32833 non-null  float64\n",
            " 20  valence                   32833 non-null  float64\n",
            " 21  tempo                     32833 non-null  float64\n",
            " 22  duration_ms               32833 non-null  int64  \n",
            "dtypes: float64(9), int64(4), object(10)\n",
            "memory usage: 5.8+ MB\n",
            "None\n",
            "                 track_id                                         track_name  \\\n",
            "0  6f807x0ima9a1j3VPbc7VN  I Don't Care (with Justin Bieber) - Loud Luxur...   \n",
            "1  0r7CVbZTWZgbTCYdfa2P31                    Memories - Dillon Francis Remix   \n",
            "2  1z1Hg7Vb0AhHDiEmnDE79l                    All the Time - Don Diablo Remix   \n",
            "3  75FpbthrwQmzHlBJLuGdC7                  Call You Mine - Keanu Silva Remix   \n",
            "4  1e8PAfcKUYoKkxPhrHqw4x            Someone You Loved - Future Humans Remix   \n",
            "\n",
            "       track_artist  track_popularity          track_album_id  \\\n",
            "0        Ed Sheeran                66  2oCs0DGTsRO98Gh5ZSl2Cx   \n",
            "1          Maroon 5                67  63rPSO264uRjW1X5E6cWv6   \n",
            "2      Zara Larsson                70  1HoSmj2eLcsrR0vE9gThr4   \n",
            "3  The Chainsmokers                60  1nqYsOef1yKKuGOVchbsk6   \n",
            "4     Lewis Capaldi                69  7m7vv9wlQ4i0LFuJiE2zsQ   \n",
            "\n",
            "                                    track_album_name track_album_release_date  \\\n",
            "0  I Don't Care (with Justin Bieber) [Loud Luxury...               2019-06-14   \n",
            "1                    Memories (Dillon Francis Remix)               2019-12-13   \n",
            "2                    All the Time (Don Diablo Remix)               2019-07-05   \n",
            "3                        Call You Mine - The Remixes               2019-07-19   \n",
            "4            Someone You Loved (Future Humans Remix)               2019-03-05   \n",
            "\n",
            "  playlist_name             playlist_id playlist_genre  ... key  loudness  \\\n",
            "0     Pop Remix  37i9dQZF1DXcZDD7cfEKhW            pop  ...   6    -2.634   \n",
            "1     Pop Remix  37i9dQZF1DXcZDD7cfEKhW            pop  ...  11    -4.969   \n",
            "2     Pop Remix  37i9dQZF1DXcZDD7cfEKhW            pop  ...   1    -3.432   \n",
            "3     Pop Remix  37i9dQZF1DXcZDD7cfEKhW            pop  ...   7    -3.778   \n",
            "4     Pop Remix  37i9dQZF1DXcZDD7cfEKhW            pop  ...   1    -4.672   \n",
            "\n",
            "   mode  speechiness  acousticness  instrumentalness  liveness  valence  \\\n",
            "0     1       0.0583        0.1020          0.000000    0.0653    0.518   \n",
            "1     1       0.0373        0.0724          0.004210    0.3570    0.693   \n",
            "2     0       0.0742        0.0794          0.000023    0.1100    0.613   \n",
            "3     1       0.1020        0.0287          0.000009    0.2040    0.277   \n",
            "4     1       0.0359        0.0803          0.000000    0.0833    0.725   \n",
            "\n",
            "     tempo  duration_ms  \n",
            "0  122.036       194754  \n",
            "1   99.972       162600  \n",
            "2  124.008       176616  \n",
            "3  121.956       169093  \n",
            "4  123.976       189052  \n",
            "\n",
            "[5 rows x 23 columns]\n"
          ]
        }
      ]
    },
    {
      "cell_type": "code",
      "source": [],
      "metadata": {
        "id": "ma7QCx32PEKa"
      },
      "execution_count": null,
      "outputs": []
    },
    {
      "cell_type": "code",
      "source": [
        "print(df.playlist_genre.unique())\n",
        "print(df.playlist_subgenre.unique())"
      ],
      "metadata": {
        "colab": {
          "base_uri": "https://localhost:8080/"
        },
        "id": "_YtESbsuBMBT",
        "outputId": "a24a345d-5393-4373-8070-9a1808b71bbb"
      },
      "execution_count": 4,
      "outputs": [
        {
          "output_type": "stream",
          "name": "stdout",
          "text": [
            "['pop' 'rap' 'rock' 'latin' 'r&b' 'edm']\n",
            "['dance pop' 'post-teen pop' 'electropop' 'indie poptimism' 'hip hop'\n",
            " 'southern hip hop' 'gangster rap' 'trap' 'album rock' 'classic rock'\n",
            " 'permanent wave' 'hard rock' 'tropical' 'latin pop' 'reggaeton'\n",
            " 'latin hip hop' 'urban contemporary' 'hip pop' 'new jack swing'\n",
            " 'neo soul' 'electro house' 'big room' 'pop edm'\n",
            " 'progressive electro house']\n"
          ]
        }
      ]
    },
    {
      "cell_type": "code",
      "source": [
        "# check empty\n",
        "\n",
        "print(df.isnull().sum())\n",
        "df = df.dropna()"
      ],
      "metadata": {
        "colab": {
          "base_uri": "https://localhost:8080/"
        },
        "id": "lJ0bzjj3nTB5",
        "outputId": "de388b0b-5ad6-4a03-fc04-b9d5932b4451"
      },
      "execution_count": 5,
      "outputs": [
        {
          "output_type": "stream",
          "name": "stdout",
          "text": [
            "track_id                    0\n",
            "track_name                  5\n",
            "track_artist                5\n",
            "track_popularity            0\n",
            "track_album_id              0\n",
            "track_album_name            5\n",
            "track_album_release_date    0\n",
            "playlist_name               0\n",
            "playlist_id                 0\n",
            "playlist_genre              0\n",
            "playlist_subgenre           0\n",
            "danceability                0\n",
            "energy                      0\n",
            "key                         0\n",
            "loudness                    0\n",
            "mode                        0\n",
            "speechiness                 0\n",
            "acousticness                0\n",
            "instrumentalness            0\n",
            "liveness                    0\n",
            "valence                     0\n",
            "tempo                       0\n",
            "duration_ms                 0\n",
            "dtype: int64\n"
          ]
        }
      ]
    },
    {
      "cell_type": "code",
      "source": [
        "print(df.dtypes)"
      ],
      "metadata": {
        "colab": {
          "base_uri": "https://localhost:8080/"
        },
        "id": "RxZhcIqVnSex",
        "outputId": "f21ebdc1-17eb-4618-ab3b-7ddcc9681094"
      },
      "execution_count": 6,
      "outputs": [
        {
          "output_type": "stream",
          "name": "stdout",
          "text": [
            "track_id                     object\n",
            "track_name                   object\n",
            "track_artist                 object\n",
            "track_popularity              int64\n",
            "track_album_id               object\n",
            "track_album_name             object\n",
            "track_album_release_date     object\n",
            "playlist_name                object\n",
            "playlist_id                  object\n",
            "playlist_genre               object\n",
            "playlist_subgenre            object\n",
            "danceability                float64\n",
            "energy                      float64\n",
            "key                           int64\n",
            "loudness                    float64\n",
            "mode                          int64\n",
            "speechiness                 float64\n",
            "acousticness                float64\n",
            "instrumentalness            float64\n",
            "liveness                    float64\n",
            "valence                     float64\n",
            "tempo                       float64\n",
            "duration_ms                   int64\n",
            "dtype: object\n"
          ]
        }
      ]
    },
    {
      "cell_type": "code",
      "source": [
        "df = df.drop(columns=[\n",
        "    \"track_id\", \"track_name\", \"track_artist\", \"track_album_id\",\n",
        "    \"track_album_name\", \"track_album_release_date\", \"playlist_name\", \"playlist_id\",\n",
        "    \"playlist_subgenre\"\n",
        "])\n"
      ],
      "metadata": {
        "id": "PREBYAOcoGwt"
      },
      "execution_count": 7,
      "outputs": []
    },
    {
      "cell_type": "code",
      "source": [
        "df.columns"
      ],
      "metadata": {
        "colab": {
          "base_uri": "https://localhost:8080/"
        },
        "id": "w6QJG7ksGKZw",
        "outputId": "45c31e0d-ad97-4b09-bba4-1db9da358058"
      },
      "execution_count": 8,
      "outputs": [
        {
          "output_type": "execute_result",
          "data": {
            "text/plain": [
              "Index(['track_popularity', 'playlist_genre', 'danceability', 'energy', 'key',\n",
              "       'loudness', 'mode', 'speechiness', 'acousticness', 'instrumentalness',\n",
              "       'liveness', 'valence', 'tempo', 'duration_ms'],\n",
              "      dtype='object')"
            ]
          },
          "metadata": {},
          "execution_count": 8
        }
      ]
    },
    {
      "cell_type": "code",
      "source": [
        "from scipy.stats import f_oneway, kruskal\n",
        "import pandas as pd\n",
        "\n",
        "# Konvertiere Genres in numerische Labels\n",
        "df[\"genre_label\"], _ = pd.factorize(df[\"playlist_genre\"])\n",
        "\n",
        "# Liste der numerischen Features\n",
        "numerical_features = df.select_dtypes(include=[\"int64\", \"float64\"]).columns.tolist()\n",
        "numerical_features.remove(\"genre_label\")  # Zielvariable entfernen\n",
        "\n",
        "# Berechne die F-Statistik für jedes numerische Feature\n",
        "feature_scores = {}\n",
        "for feature in numerical_features:\n",
        "    groups = [df[df[\"genre_label\"] == g][feature] for g in df[\"genre_label\"].unique()]\n",
        "    stat, p = f_oneway(*groups)\n",
        "    feature_scores[feature] = p  # Niedrigere p-Werte = wichtigere Features\n",
        "\n",
        "# P-Werte für jedes Feature anzeigen\n",
        "for feature, p_value in sorted(feature_scores.items(), key=lambda x: x[1]):\n",
        "    print(f\"{feature}: p-value = {p_value:.10f}\")\n",
        "\n",
        "# Sortiere die Features nach Signifikanz\n",
        "important_features = sorted(feature_scores, key=feature_scores.get)[:10]\n",
        "print(\"Top 10 wichtigste numerische Features:\", important_features)\n"
      ],
      "metadata": {
        "colab": {
          "base_uri": "https://localhost:8080/"
        },
        "id": "VeeZqY6NonAF",
        "outputId": "eee01bff-7a21-4f6d-e1ec-540c1e56bab4"
      },
      "execution_count": 9,
      "outputs": [
        {
          "output_type": "stream",
          "name": "stdout",
          "text": [
            "danceability: p-value = 0.0000000000\n",
            "energy: p-value = 0.0000000000\n",
            "loudness: p-value = 0.0000000000\n",
            "speechiness: p-value = 0.0000000000\n",
            "acousticness: p-value = 0.0000000000\n",
            "instrumentalness: p-value = 0.0000000000\n",
            "valence: p-value = 0.0000000000\n",
            "duration_ms: p-value = 0.0000000000\n",
            "track_popularity: p-value = 0.0000000000\n",
            "tempo: p-value = 0.0000000000\n",
            "mode: p-value = 0.0000000000\n",
            "liveness: p-value = 0.0000000000\n",
            "key: p-value = 0.0008878489\n",
            "Top 10 wichtigste numerische Features: ['danceability', 'energy', 'loudness', 'speechiness', 'acousticness', 'instrumentalness', 'valence', 'duration_ms', 'track_popularity', 'tempo']\n"
          ]
        }
      ]
    },
    {
      "cell_type": "code",
      "source": [
        "#Relevant features\n",
        "\n",
        "features = ['danceability', 'energy', 'loudness', 'speechiness', 'acousticness',\n",
        "            'instrumentalness', 'valence', 'duration_ms', 'track_popularity', 'tempo']\n",
        "\n",
        "X = df[features]\n",
        "y = df[\"genre_label\"]  # Numerische Labels für Genres\n",
        "\n",
        "X_train, X_val, y_train, y_val = train_test_split(X, y, test_size=0.2, random_state=42, stratify=y)\n"
      ],
      "metadata": {
        "id": "EDHap-r6ozxZ"
      },
      "execution_count": 10,
      "outputs": []
    },
    {
      "cell_type": "code",
      "source": [
        "#normalize\n",
        "from sklearn.preprocessing import StandardScaler\n",
        "\n",
        "scaler = StandardScaler()\n",
        "X_train_scaled = scaler.fit_transform(X_train)\n",
        "X_val_scaled = scaler.transform(X_val)\n"
      ],
      "metadata": {
        "id": "HsKbyxhso_N1"
      },
      "execution_count": 11,
      "outputs": []
    },
    {
      "cell_type": "code",
      "source": [
        "#PyTorch Tensor\n",
        "\n",
        "#turn into Tensors\n",
        "X_train_tensor = torch.tensor(X_train_scaled, dtype=torch.float32)\n",
        "y_train_tensor = torch.tensor(y_train.to_numpy(), dtype=torch.long)\n",
        "X_val_tensor = torch.tensor(X_val_scaled, dtype=torch.float32)\n",
        "y_val_tensor = torch.tensor(y_val.to_numpy(), dtype=torch.long)\n",
        "\n",
        "#Dataset\n",
        "batch_size = 64\n",
        "train_dataset = TensorDataset(X_train_tensor, y_train_tensor)\n",
        "val_dataset = TensorDataset(X_val_tensor, y_val_tensor)\n",
        "\n",
        "#Dataloader\n",
        "train_loader = DataLoader(train_dataset, batch_size=batch_size, shuffle=True)\n",
        "val_loader = DataLoader(val_dataset, batch_size=batch_size, shuffle=False)\n",
        "\n"
      ],
      "metadata": {
        "id": "Kksi7YEjo47E"
      },
      "execution_count": 12,
      "outputs": []
    },
    {
      "cell_type": "code",
      "source": [
        "# input & Output\n",
        "input_size = X_train.shape[1]\n",
        "hidden_size = 256 # 64 too small for 10 input features\n",
        "output_size = len(np.unique(y))\n",
        "\n",
        "# MLP - Modell mit 4 verborgenen Schichten\n",
        "class GenreClassifier(nn.Module):\n",
        "    def __init__(self):\n",
        "        super().__init__()\n",
        "        self.fc1 = nn.Linear(input_size, 512)  # Erste Schicht mit 512 Neuronen\n",
        "        self.bn1 = nn.BatchNorm1d(512)         # BatchNorm für die erste Schicht\n",
        "        self.fc2 = nn.Linear(512, 256)        # Zweite Schicht mit 256 Neuronen\n",
        "        self.bn2 = nn.BatchNorm1d(256)        # BatchNorm für die zweite Schicht\n",
        "        self.fc3 = nn.Linear(256, 128)        # Dritte Schicht mit 128 Neuronen\n",
        "        self.bn3 = nn.BatchNorm1d(128)        # BatchNorm für die dritte Schicht\n",
        "        self.fc4 = nn.Linear(128, 64)         # Vierte Schicht mit 64 Neuronen\n",
        "        self.bn4 = nn.BatchNorm1d(64)         # BatchNorm für die vierte Schicht\n",
        "        self.fc5 = nn.Linear(64, output_size) # Ausgabeschicht\n",
        "        self.dropout = nn.Dropout(0.3)        # Dropout mit 30%\n",
        "\n",
        "    def forward(self, x):\n",
        "        x = F.relu(self.bn1(self.fc1(x)))      # Aktivierungsfunktion für erste Schicht\n",
        "        x = self.dropout(x)\n",
        "        x = F.relu(self.bn2(self.fc2(x)))      # Aktivierungsfunktion für zweite Schicht\n",
        "        x = self.dropout(x)\n",
        "        x = F.relu(self.bn3(self.fc3(x)))      # Aktivierungsfunktion für dritte Schicht\n",
        "        x = self.dropout(x)\n",
        "        x = F.relu(self.bn4(self.fc4(x)))      # Aktivierungsfunktion für vierte Schicht\n",
        "        x = self.dropout(x)\n",
        "        x = F.log_softmax(self.fc5(x), dim=1)  # LogSoftmax für die Ausgabeschicht\n",
        "        return x\n",
        "\n",
        "\n",
        "#Initalize Modell\n",
        "model = GenreClassifier()"
      ],
      "metadata": {
        "id": "L8oiNPnipHiX"
      },
      "execution_count": 13,
      "outputs": []
    },
    {
      "cell_type": "code",
      "source": [
        "# Loss Function and Optimizer\n",
        "criterion = nn.CrossEntropyLoss(label_smoothing=0.05)\n",
        "optimizer = optim.Adam(model.parameters(), lr=0.005)\n",
        "scheduler = ReduceLROnPlateau(optimizer, 'min', patience=3, factor=0.5)"
      ],
      "metadata": {
        "id": "jHWe01RQpJ5Q"
      },
      "execution_count": 14,
      "outputs": []
    },
    {
      "cell_type": "code",
      "source": [
        "# Early stopping-Parameter\n",
        "best_val_loss = np.inf\n",
        "patience = 8     # number of epochs w/o improvement before training stops\n",
        "patience_counter = 0\n",
        "\n",
        "# Training\n",
        "\n",
        "num_epochs = 50\n",
        "train_losses = []\n",
        "val_losses = []\n",
        "best_acc = 0\n",
        "for epoch in range(num_epochs):\n",
        "    model.train()\n",
        "    epoch_train_loss = 0\n",
        "\n",
        "# training loop\n",
        "    for inputs, labels in train_loader:\n",
        "        optimizer.zero_grad()\n",
        "        outputs = model(inputs)       # forward loop\n",
        "        loss = criterion(outputs, labels)  # loss\n",
        "        loss.backward()   # backpropagation\n",
        "        optimizer.step()    # Optimization\n",
        "        epoch_train_loss += loss.item()\n",
        "\n",
        "    avg_train_loss = epoch_train_loss / len(train_loader)\n",
        "    train_losses.append(avg_train_loss)\n",
        "\n",
        "    # Validierung\n",
        "    model.eval()\n",
        "    epoch_val_loss = 0\n",
        "    correct = 0\n",
        "    total = 0\n",
        "\n",
        "    with torch.no_grad():\n",
        "        for inputs, labels in val_loader:\n",
        "            outputs = model(inputs)\n",
        "            loss = criterion(outputs, labels)\n",
        "            epoch_val_loss += loss.item()\n",
        "            _, predicted = torch.max(outputs, 1)\n",
        "            correct += (predicted == labels).sum().item()\n",
        "            total += labels.size(0)\n",
        "\n",
        "    avg_val_loss = epoch_val_loss / len(val_loader)\n",
        "    val_losses.append(avg_val_loss)\n",
        "    accuracy = 100 * correct / total\n",
        "\n",
        "    #Early Stopping-Logic\n",
        "    if avg_val_loss < best_val_loss:\n",
        "        best_val_loss = avg_val_loss\n",
        "        patience_counter = 0\n",
        "    else:\n",
        "        patience_counter += 1\n",
        "        if patience_counter >= patience:\n",
        "            print(f\"Early stopping triggered at epoch {epoch+1}.\")\n",
        "            break\n",
        "\n",
        "    #LR Scheduler\n",
        "    scheduler.step(avg_val_loss)\n",
        "\n",
        "    #Early stopping with accuracy\n",
        "    if accuracy > best_acc:\n",
        "      best_acc = accuracy\n",
        "      patience_counter = 0\n",
        "      torch.save(model.state_dict(), 'best_model.pth')\n",
        "    else:\n",
        "      patience_counter += 1\n",
        "\n",
        "# Show all 10 Epochs\n",
        "    if (epoch + 1) % 10 == 0:\n",
        "        print(f\"Epoch [{epoch+1}/{num_epochs}] - Train Loss: {avg_train_loss:.4f}, Val Loss: {avg_val_loss:.4f}, Val Acc: {accuracy:.2f}%\")\n"
      ],
      "metadata": {
        "colab": {
          "base_uri": "https://localhost:8080/"
        },
        "id": "J_yB-vYEpPeP",
        "outputId": "e430ea0d-8113-4b1f-d51f-09622bbc83d3"
      },
      "execution_count": 15,
      "outputs": [
        {
          "output_type": "stream",
          "name": "stdout",
          "text": [
            "Epoch [10/50] - Train Loss: 1.3146, Val Loss: 1.2671, Val Acc: 54.46%\n",
            "Early stopping triggered at epoch 16.\n"
          ]
        }
      ]
    },
    {
      "cell_type": "code",
      "source": [
        "# Modell Evaluation\n",
        "\n",
        "from sklearn.metrics import accuracy_score\n",
        "\n",
        "# Testdaten vorbereiten\n",
        "X_test_tensor = torch.tensor(X_val_scaled, dtype=torch.float32)\n",
        "y_test_tensor = torch.tensor(y_val.values, dtype=torch.long)\n",
        "\n",
        "# Vorhersagen machen\n",
        "model.eval()  # Modell in Evaluierungsmodus versetzen (Deaktiviert Dropout / BatchNorm, falls vorhanden)\n",
        "with torch.no_grad():\n",
        "    predictions = model(X_test_tensor).argmax(dim=1)  # Höchster Wert = vorhergesagte Klasse\n",
        "\n",
        "# Genauigkeit berechnen\n",
        "accuracy = accuracy_score(y_test_tensor, predictions)\n",
        "print(f'Genauigkeit des Modells auf den Testdaten: {accuracy:.4f}')\n"
      ],
      "metadata": {
        "colab": {
          "base_uri": "https://localhost:8080/"
        },
        "id": "DibKVRT3pSfC",
        "outputId": "11fd6796-747b-40bd-b517-a5458ee53daf"
      },
      "execution_count": 16,
      "outputs": [
        {
          "output_type": "stream",
          "name": "stdout",
          "text": [
            "Genauigkeit des Modells auf den Testdaten: 0.5536\n"
          ]
        }
      ]
    },
    {
      "cell_type": "code",
      "source": [
        "plt.figure(figsize=(8, 5))\n",
        "epochs_completed = len(train_losses)  # Tatsächliche Anzahl der trainierten Epochen\n",
        "plt.plot(range(1, epochs_completed + 1), train_losses, label=\"Train Loss\")\n",
        "plt.plot(range(1, epochs_completed + 1), val_losses, label=\"Val Loss\", linestyle=\"dashed\")\n",
        "plt.xlabel(\"Epoch\")\n",
        "plt.ylabel(\"Loss\")\n",
        "plt.legend()\n",
        "plt.title(\"Training & Validation Loss\")\n",
        "plt.show()"
      ],
      "metadata": {
        "colab": {
          "base_uri": "https://localhost:8080/",
          "height": 487
        },
        "id": "rm942t1BTtZi",
        "outputId": "02d50d31-228d-495a-9b35-c59809f0b9d2"
      },
      "execution_count": 17,
      "outputs": [
        {
          "output_type": "display_data",
          "data": {
            "text/plain": [
              "<Figure size 800x500 with 1 Axes>"
            ],
            "image/png": "[encoded data removed]"
          },
          "metadata": {}
        }
      ]
    }
  ]
}